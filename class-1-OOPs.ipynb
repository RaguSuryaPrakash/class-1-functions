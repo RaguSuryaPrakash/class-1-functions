{
 "cells": [
  {
   "cell_type": "code",
   "execution_count": 3,
   "metadata": {},
   "outputs": [],
   "source": [
    "class multipleFunction():\n",
    "    def triangle():\n",
    "        Height=int(input(\"Height:\"))\n",
    "        breadth=int(input(\"Breadth:\"))\n",
    "        print(\"Area formula: (Height*Breadth)/2\")\n",
    "        print(\"Area of Triangle: \",(Height*breadth)/2)\n",
    "        Height1=int(input(\"Height1:\"))\n",
    "        Height2=int(input(\"Height2:\"))\n",
    "        breadth=int(input(\"Breadth:\"))\n",
    "        print(\"Perimeter formula: Height1+Height2+Breadth\")\n",
    "        print(\"Perimeter of Triangle: \",Height1+Height2+breadth)\n",
    "    def Percentage():\n",
    "        mark1=int(input(\"subject1:\"))\n",
    "        mark2=int(input(\"subject2:\"))\n",
    "        mark3=int(input(\"subject3:\"))\n",
    "        mark4=int(input(\"subject4:\"))\n",
    "        mark5=int(input(\"subject5:\"))\n",
    "        Total=mark1+mark2+mark3+mark4+mark5\n",
    "        print(\"Total:\",mark1+mark2+mark3+mark4+mark5)\n",
    "        percent=(Total/500)*100\n",
    "        print(\"Percentage:\",percent)\n",
    "    def elegible():\n",
    "        gender=input(\"enter your gender:\")\n",
    "        age=int(input(\"enter your age:\"))\n",
    "        if(gender=='male'):\n",
    "            if(age>=20):\n",
    "                print(\"elegible\")\n",
    "            else:\n",
    "                print(\"not elegible\")    \n",
    "        elif(gender=='female'):\n",
    "            if(age>=18):\n",
    "                    print(\"elegible\")\n",
    "            else:\n",
    "                print(\"not elegible\")\n",
    "    def OddEven():\n",
    "        num=int(input(\"Enter a number:\"))\n",
    "        if(num%2)== 0:\n",
    "            print(\"{0} is Even number\".format(num))\n",
    "        else:\n",
    "            print(\"{0} is Odd number\".format(num))\n",
    "    def Subfields():\n",
    "        print(\"Sub-fields in AI are:\")\n",
    "        List=['Machine Learning', 'Neural Networks', 'Vision', 'Robotics', 'Speech Processing', 'Natural Language Processing']\n",
    "        for temp in List:\n",
    "            print(temp)                "
   ]
  },
  {
   "cell_type": "code",
   "execution_count": 4,
   "metadata": {},
   "outputs": [
    {
     "name": "stdout",
     "output_type": "stream",
     "text": [
      "Sub-fields in AI are:\n",
      "Machine Learning\n",
      "Neural Networks\n",
      "Vision\n",
      "Robotics\n",
      "Speech Processing\n",
      "Natural Language Processing\n"
     ]
    }
   ],
   "source": [
    "multipleFunction.Subfields()"
   ]
  },
  {
   "cell_type": "code",
   "execution_count": null,
   "metadata": {},
   "outputs": [],
   "source": []
  },
  {
   "cell_type": "code",
   "execution_count": null,
   "metadata": {},
   "outputs": [],
   "source": []
  }
 ],
 "metadata": {
  "kernelspec": {
   "display_name": "Python 3",
   "language": "python",
   "name": "python3"
  },
  "language_info": {
   "codemirror_mode": {
    "name": "ipython",
    "version": 3
   },
   "file_extension": ".py",
   "mimetype": "text/x-python",
   "name": "python",
   "nbconvert_exporter": "python",
   "pygments_lexer": "ipython3",
   "version": "3.7.4"
  }
 },
 "nbformat": 4,
 "nbformat_minor": 2
}
