{
 "cells": [
  {
   "cell_type": "code",
   "execution_count": 10,
   "metadata": {},
   "outputs": [],
   "source": [
    "def multiplefunction():\n",
    "    gender=input(\"enter your gender\")\n",
    "    age=int(input(\"enter your age\"))\n",
    "    if(gender=='male'):\n",
    "        if(age<=20):\n",
    "            print(\"eligible\")\n",
    "            message=\"eligible\"\n",
    "        else:\n",
    "            print(\"not eligible\")\n",
    "            message=\"not eligible\"\n",
    "    elif(gender==\"female\"):\n",
    "            if(age<=20):\n",
    "                print(\"eligible\")\n",
    "                message=\"eligible\"\n",
    "    else:\n",
    "        print(\" not eligible\")\n",
    "        message(\"not eligible\")\n",
    "    return message\n",
    "        \n",
    "            "
   ]
  },
  {
   "cell_type": "code",
   "execution_count": 14,
   "metadata": {},
   "outputs": [
    {
     "name": "stdout",
     "output_type": "stream",
     "text": [
      "enter your gendermale\n",
      "enter your age25\n",
      "not eligible\n"
     ]
    },
    {
     "data": {
      "text/plain": [
       "'not eligible'"
      ]
     },
     "execution_count": 14,
     "metadata": {},
     "output_type": "execute_result"
    }
   ],
   "source": [
    "multiplefunction()"
   ]
  },
  {
   "cell_type": "code",
   "execution_count": 31,
   "metadata": {},
   "outputs": [],
   "source": [
    "def Percentage():\n",
    "    mark1=int(input(\"subject1:\"))\n",
    "    mark2=int(input(\"subject2:\"))\n",
    "    mark3=int(input(\"subject3:\"))\n",
    "    mark4=int(input(\"subject4:\"))\n",
    "    mark5=int(input(\"subject5:\"))\n",
    "    Total=mark1+mark2+mark3+mark4+mark5\n",
    "    print(\"Total:\",mark1+mark2+mark3+mark4+mark5)\n",
    "    message=\"Total\"\n",
    "    percent=(Total/500)*100\n",
    "    print(\"Percentage:\",percent)\n",
    "    message=percent\n",
    "    return message"
   ]
  },
  {
   "cell_type": "code",
   "execution_count": 32,
   "metadata": {},
   "outputs": [
    {
     "name": "stdout",
     "output_type": "stream",
     "text": [
      "subject1:97\n",
      "subject2:84\n",
      "subject3:95\n",
      "subject4:95\n",
      "subject5:93\n",
      "Total: 464\n",
      "Percentage: 92.80000000000001\n"
     ]
    },
    {
     "data": {
      "text/plain": [
       "92.80000000000001"
      ]
     },
     "execution_count": 32,
     "metadata": {},
     "output_type": "execute_result"
    }
   ],
   "source": [
    "Percentage()\n"
   ]
  },
  {
   "cell_type": "code",
   "execution_count": 39,
   "metadata": {},
   "outputs": [],
   "source": [
    "def triangle():\n",
    "    Height=int(input(\"Height:\"))\n",
    "    breadth=int(input(\"Breadth:\"))\n",
    "    print(\"Area formula: (Height*Breadth)/2\")\n",
    "    print(\"Area of Triangle: \",(Height*breadth)/2)\n",
    "    Height1=int(input(\"Height1:\"))\n",
    "    Height2=int(input(\"Height2:\"))\n",
    "    breadth=int(input(\"Breadth:\"))\n",
    "    print(\"Perimeter formula: Height1+Height2+Breadth\")\n",
    "    print(\"Perimeter of Triangle: \",Height1+Height2+breadth)\n",
    "    message=Height1+Height2+breadth\n",
    "    return message\n"
   ]
  },
  {
   "cell_type": "code",
   "execution_count": 40,
   "metadata": {},
   "outputs": [
    {
     "name": "stdout",
     "output_type": "stream",
     "text": [
      "Height:32\n",
      "Breadth:23\n",
      "Area formula: (Height*Breadth)/2\n",
      "Area of Triangle:  368.0\n",
      "Height1:2\n",
      "Height2:4\n",
      "Breadth:4\n",
      "Perimeter formula: Height1+Height2+Breadth\n",
      "Perimeter of Triangle:  10\n"
     ]
    },
    {
     "data": {
      "text/plain": [
       "10"
      ]
     },
     "execution_count": 40,
     "metadata": {},
     "output_type": "execute_result"
    }
   ],
   "source": [
    "triangle()"
   ]
  },
  {
   "cell_type": "code",
   "execution_count": null,
   "metadata": {},
   "outputs": [],
   "source": []
  }
 ],
 "metadata": {
  "kernelspec": {
   "display_name": "Python 3",
   "language": "python",
   "name": "python3"
  },
  "language_info": {
   "codemirror_mode": {
    "name": "ipython",
    "version": 3
   },
   "file_extension": ".py",
   "mimetype": "text/x-python",
   "name": "python",
   "nbconvert_exporter": "python",
   "pygments_lexer": "ipython3",
   "version": "3.7.4"
  }
 },
 "nbformat": 4,
 "nbformat_minor": 2
}
