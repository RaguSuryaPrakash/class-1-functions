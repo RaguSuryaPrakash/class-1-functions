{
 "cells": [
  {
   "cell_type": "code",
   "execution_count": 31,
   "metadata": {},
   "outputs": [],
   "source": [
    "def oddeven():\n",
    "    num=int(input(\"enter the number:\"))\n",
    "    if((num%2)==1):\n",
    "        print(\"odd number is:\",num)\n",
    "        message=\"odd number\"\n",
    "    else:\n",
    "        print(\"even number is:\",num)\n",
    "        message=\"even number\"\n",
    "    return message"
   ]
  },
  {
   "cell_type": "code",
   "execution_count": 32,
   "metadata": {},
   "outputs": [
    {
     "name": "stdout",
     "output_type": "stream",
     "text": [
      "enter the number:1\n",
      "odd number is: 1\n"
     ]
    }
   ],
   "source": [
    "oddeven=oddeven()"
   ]
  },
  {
   "cell_type": "code",
   "execution_count": 33,
   "metadata": {},
   "outputs": [
    {
     "data": {
      "text/plain": [
       "'odd number'"
      ]
     },
     "execution_count": 33,
     "metadata": {},
     "output_type": "execute_result"
    }
   ],
   "source": [
    "oddeven"
   ]
  },
  {
   "cell_type": "code",
   "execution_count": 34,
   "metadata": {},
   "outputs": [],
   "source": [
    "def elegible():\n",
    "    gender=input(\"enter your gender:\")\n",
    "    age=int(input(\"enter your age:\"))\n",
    "    if(gender=='male'):\n",
    "        if(age>=20):\n",
    "            print(\"elegible\")\n",
    "            message=\"elegible\"\n",
    "        else:\n",
    "            print(\"not elegible\")\n",
    "            message=\"not elegible\"\n",
    "    elif(gender=='female'):\n",
    "        if(age>=18):\n",
    "            print(\"elegible\")\n",
    "            message=\"elegible\"\n",
    "        else:\n",
    "            print(\"not elegible\")\n",
    "            message=\"not elegible\"\n",
    "        return message    "
   ]
  },
  {
   "cell_type": "code",
   "execution_count": 35,
   "metadata": {},
   "outputs": [
    {
     "name": "stdout",
     "output_type": "stream",
     "text": [
      "enter your gender:female\n",
      "enter your age:12\n",
      "not elegible\n"
     ]
    }
   ],
   "source": [
    "elegible=elegible()"
   ]
  },
  {
   "cell_type": "code",
   "execution_count": 36,
   "metadata": {},
   "outputs": [
    {
     "data": {
      "text/plain": [
       "'not elegible'"
      ]
     },
     "execution_count": 36,
     "metadata": {},
     "output_type": "execute_result"
    }
   ],
   "source": [
    "elegible"
   ]
  },
  {
   "cell_type": "code",
   "execution_count": 46,
   "metadata": {},
   "outputs": [],
   "source": [
    "def Percentage():\n",
    "    mark1=int(input(\"subject1:\"))\n",
    "    mark2=int(input(\"subject2:\"))\n",
    "    mark3=int(input(\"subject3:\"))\n",
    "    mark4=int(input(\"subject4:\"))\n",
    "    mark5=int(input(\"subject5:\"))\n",
    "    Total=mark1+mark2+mark3+mark4+mark5\n",
    "    print(\"Total:\",mark1+mark2+mark3+mark4+mark5)\n",
    "    message=\"Total\"\n",
    "    percent=(Total/500)*100\n",
    "    print(\"Percentage:\",percent)\n",
    "    message=\"Percentage\",percent\n",
    "    return message\n",
    "    "
   ]
  },
  {
   "cell_type": "code",
   "execution_count": 47,
   "metadata": {},
   "outputs": [
    {
     "name": "stdout",
     "output_type": "stream",
     "text": [
      "subject1:97\n",
      "subject2:84\n",
      "subject3:95\n",
      "subject4:95\n",
      "subject5:93\n",
      "Total: 464\n",
      "Percentage: 92.80000000000001\n"
     ]
    }
   ],
   "source": [
    "Percentage=Percentage()"
   ]
  },
  {
   "cell_type": "code",
   "execution_count": 48,
   "metadata": {},
   "outputs": [
    {
     "data": {
      "text/plain": [
       "('Percentage', 92.80000000000001)"
      ]
     },
     "execution_count": 48,
     "metadata": {},
     "output_type": "execute_result"
    }
   ],
   "source": [
    "Percentage"
   ]
  },
  {
   "cell_type": "code",
   "execution_count": 65,
   "metadata": {},
   "outputs": [],
   "source": [
    "def triangle():\n",
    "    Height=int(input(\"Height:\"))\n",
    "    breadth=int(input(\"Breadth:\"))\n",
    "    print(\"Area formula: (Height*Breadth)/2\")\n",
    "    print(\"Area of Triangle: \",(Height*breadth)/2)\n",
    "    message=\"Area of Triangle: \",Height*breadth/2\n",
    "    Height1=int(input(\"Height1:\"))\n",
    "    Height2=int(input(\"Height2:\"))\n",
    "    breadth=int(input(\"Breadth:\"))\n",
    "    print(\"Perimeter formula: Height1+Height2+Breadth\")\n",
    "    print(\"Perimeter of Triangle:\",Height1+Height2+breadth)\n",
    "    message=\"Perimeter of Triangle:\",Height1+Height2+breadth\n",
    "    return \"Area of Triangle\",Height*breadth/2,\"Perimeter of Triangle:\",Height1+Height2+breadth\n"
   ]
  },
  {
   "cell_type": "code",
   "execution_count": 66,
   "metadata": {},
   "outputs": [
    {
     "name": "stdout",
     "output_type": "stream",
     "text": [
      "Height:32\n",
      "Breadth:34\n",
      "Area formula: (Height*Breadth)/2\n",
      "Area of Triangle:  544.0\n",
      "Height1:2\n",
      "Height2:4\n",
      "Breadth:4\n",
      "Perimeter formula: Height1+Height2+Breadth\n",
      "Perimeter of Triangle: 10\n"
     ]
    }
   ],
   "source": [
    "triangle=triangle()"
   ]
  },
  {
   "cell_type": "code",
   "execution_count": 67,
   "metadata": {},
   "outputs": [
    {
     "data": {
      "text/plain": [
       "('Area of Triangle', 64.0, 'Perimeter of Triangle:', 10)"
      ]
     },
     "execution_count": 67,
     "metadata": {},
     "output_type": "execute_result"
    }
   ],
   "source": [
    "triangle"
   ]
  },
  {
   "cell_type": "code",
   "execution_count": null,
   "metadata": {},
   "outputs": [],
   "source": []
  },
  {
   "cell_type": "code",
   "execution_count": null,
   "metadata": {},
   "outputs": [],
   "source": []
  }
 ],
 "metadata": {
  "kernelspec": {
   "display_name": "Python 3",
   "language": "python",
   "name": "python3"
  },
  "language_info": {
   "codemirror_mode": {
    "name": "ipython",
    "version": 3
   },
   "file_extension": ".py",
   "mimetype": "text/x-python",
   "name": "python",
   "nbconvert_exporter": "python",
   "pygments_lexer": "ipython3",
   "version": "3.7.4"
  }
 },
 "nbformat": 4,
 "nbformat_minor": 2
}
